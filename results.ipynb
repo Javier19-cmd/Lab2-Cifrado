{
 "cells": [
  {
   "cell_type": "markdown",
   "metadata": {},
   "source": [
    "Imports necesarios"
   ]
  },
  {
   "cell_type": "code",
   "execution_count": 1,
   "metadata": {},
   "outputs": [],
   "source": [
    "from decimal_binario import *\n",
    "from binario_decimal import *\n",
    "from string_base64 import *\n",
    "from xor import *"
   ]
  },
  {
   "cell_type": "markdown",
   "metadata": {},
   "source": [
    "Binario"
   ]
  },
  {
   "cell_type": "code",
   "execution_count": 10,
   "metadata": {},
   "outputs": [
    {
     "name": "stdout",
     "output_type": "stream",
     "text": [
      "Representación ASCII de la cadena: Hola Mundo\n",
      "[72, 111, 108, 97, 32, 77, 117, 110, 100, 111]\n",
      "Representación binaria de la cadena:\n",
      "['01001000', '01101111', '01101100', '01100001', '00100000', '01001101', '01110101', '01101110', '01100100', '01101111']\n",
      "\n",
      "Representación ASCII de la cadena: Adiós\n",
      "[65, 100, 105, 243, 115]\n",
      "Representación binaria de la cadena:\n",
      "['01000001', '01100100', '01101001', '11110011', '01110011']\n"
     ]
    }
   ],
   "source": [
    "cadena = \"Hola Mundo\"\n",
    "\n",
    "# Obteniendo los valores ASCII de los caracteres\n",
    "ascii_resultado = caracteres_a_ascii(cadena)\n",
    "print(f\"Representación ASCII de la cadena: {cadena}\")\n",
    "print(ascii_resultado)\n",
    "\n",
    "# Convertiendo los valores ASCII a su representación binaria manualmente\n",
    "binario_resultado = [ascii_a_binario_manual(valor) for valor in ascii_resultado]\n",
    "print(\"Representación binaria de la cadena:\")\n",
    "print(binario_resultado)\n",
    "\n",
    "print()\n",
    "cadena2 = \"Adiós\"\n",
    "\n",
    "# Obteniendo los valores ASCII de los caracteres\n",
    "ascii_resultado2 = caracteres_a_ascii(cadena2)\n",
    "print(f\"Representación ASCII de la cadena: {cadena2}\")\n",
    "print(ascii_resultado2)\n",
    "\n",
    "# Convertiendo los valores ASCII a su representación binaria manualmente\n",
    "binario_resultado2 = [ascii_a_binario_manual(valor) for valor in ascii_resultado2]\n",
    "print(\"Representación binaria de la cadena:\")\n",
    "print(binario_resultado2)"
   ]
  },
  {
   "cell_type": "markdown",
   "metadata": {},
   "source": [
    "Bytes a caracteres"
   ]
  },
  {
   "cell_type": "code",
   "execution_count": 12,
   "metadata": {},
   "outputs": [
    {
     "name": "stdout",
     "output_type": "stream",
     "text": [
      "Representación ASCII de la cadena: Hola Mundo\n",
      "[72, 111, 108, 97, 32, 77, 117, 110, 100, 111]\n",
      "Representación binaria de la cadena:\n",
      "['01001000', '01101111', '01101100', '01100001', '00100000', '01001101', '01110101', '01101110', '01100100', '01101111']\n",
      "Cadena original obtenida de la representación binaria:\n",
      "Hola Mundo\n",
      "\n",
      "Representación ASCII de la cadena: Adiós\n",
      "[65, 100, 105, 243, 115]\n",
      "Representación binaria de la cadena:\n",
      "['01000001', '01100100', '01101001', '11110011', '01110011']\n",
      "Cadena original obtenida de la representación binaria:\n",
      "Adiós\n"
     ]
    }
   ],
   "source": [
    "cadena = \"Hola Mundo\"\n",
    "\n",
    "# Obteniendo los valores ASCII de los caracteres\n",
    "ascii_resultado = caracteres_a_ascii(cadena)\n",
    "print(f\"Representación ASCII de la cadena: {cadena}\")\n",
    "print(ascii_resultado)\n",
    "\n",
    "# Convertiendo los valores ASCII a su representación binaria manualmente\n",
    "binario_resultado = [ascii_a_binario_manual(valor) for valor in ascii_resultado]\n",
    "print(\"Representación binaria de la cadena:\")\n",
    "print(binario_resultado)\n",
    "\n",
    "# Convertiendo la representación binaria a la cadena original\n",
    "cadena_original = binario_a_cadena(''.join(binario_resultado))\n",
    "print(\"Cadena original obtenida de la representación binaria:\")\n",
    "print(cadena_original)\n",
    "\n",
    "print()\n",
    "cadena2 = \"Adiós\"\n",
    "\n",
    "# Obteniendo los valores ASCII de los caracteres\n",
    "ascii_resultado2 = caracteres_a_ascii(cadena2)\n",
    "print(f\"Representación ASCII de la cadena: {cadena2}\")\n",
    "print(ascii_resultado2)\n",
    "\n",
    "# Convertiendo los valores ASCII a su representación binaria manualmente\n",
    "binario_resultado2 = [ascii_a_binario_manual(valor) for valor in ascii_resultado2]\n",
    "print(\"Representación binaria de la cadena:\")\n",
    "print(binario_resultado2)\n",
    "\n",
    "# Convertiendo la representación binaria a la cadena original\n",
    "cadena_original2 = binario_a_cadena(''.join(binario_resultado2))\n",
    "print(\"Cadena original obtenida de la representación binaria:\")\n",
    "print(cadena_original2)"
   ]
  },
  {
   "cell_type": "markdown",
   "metadata": {},
   "source": [
    "Conversión de string a base64"
   ]
  },
  {
   "cell_type": "code",
   "execution_count": 17,
   "metadata": {},
   "outputs": [
    {
     "name": "stdout",
     "output_type": "stream",
     "text": [
      "Representación ASCII de la cadena: Hola Mundo\n",
      "[72, 111, 108, 97, 32, 77, 117, 110, 100, 111]\n",
      "Representación binaria de la cadena:\n",
      "['01001000', '01101111', '01101100', '01100001', '00100000', '01001101', '01110101', '01101110', '01100100', '01101111']\n",
      "Representación base 64 de la cadena:\n",
      "BIb2xhIE11bmRv==\n",
      "\n",
      "Representación ASCII de la cadena: Adiós\n",
      "[65, 100, 105, 243, 115]\n",
      "Representación binaria de la cadena:\n",
      "['01000001', '01100100', '01101001', '11110011', '01110011']\n",
      "Representación base 64 de la cadena:\n",
      "BIb2xhIE11bmRv==\n"
     ]
    }
   ],
   "source": [
    "cadena = \"Hola Mundo\"\n",
    "\n",
    "# Obteniendo los valores ASCII de los caracteres\n",
    "ascii_resultado = caracteres_a_ascii(cadena)\n",
    "print(f\"Representación ASCII de la cadena: {cadena}\")\n",
    "print(ascii_resultado)\n",
    "\n",
    "# Convertiendo los valores ASCII a su representación binaria manualmente\n",
    "binario_resultado = [ascii_a_binario_manual(valor) for valor in ascii_resultado]\n",
    "print(\"Representación binaria de la cadena:\")\n",
    "print(binario_resultado)\n",
    "\n",
    "base64 = bin_to_base64(binario_resultado)\n",
    "print(\"Representación base 64 de la cadena:\")\n",
    "print(base64)\n",
    "\n",
    "print()\n",
    "cadena2 = \"Adiós\"\n",
    "\n",
    "# Obteniendo los valores ASCII de los caracteres\n",
    "ascii_resultado2 = caracteres_a_ascii(cadena2)\n",
    "print(f\"Representación ASCII de la cadena: {cadena2}\")\n",
    "print(ascii_resultado2)\n",
    "\n",
    "# Convertiendo los valores ASCII a su representación binaria manualmente\n",
    "binario_resultado2 = [ascii_a_binario_manual(valor) for valor in ascii_resultado2]\n",
    "print(\"Representación binaria de la cadena:\")\n",
    "print(binario_resultado2)\n",
    "\n",
    "base642 = bin_to_base64(binario_resultado2)\n",
    "print(\"Representación base 64 de la cadena:\")\n",
    "print(base64)"
   ]
  },
  {
   "cell_type": "markdown",
   "metadata": {},
   "source": [
    "Base64 a string"
   ]
  },
  {
   "cell_type": "code",
   "execution_count": 19,
   "metadata": {},
   "outputs": [
    {
     "name": "stdout",
     "output_type": "stream",
     "text": [
      "Representación ASCII de la cadena:\n",
      "\u0000Hola Mundo\n",
      "Representación ASCII de la cadena:\n",
      "\u0000Adiós\n"
     ]
    }
   ],
   "source": [
    "string = base64_to_ascii(base64)\n",
    "print(\"Representación ASCII de la cadena:\")\n",
    "print(string)\n",
    "\n",
    "string2 = base64_to_ascii(base642)\n",
    "print(\"Representación ASCII de la cadena:\")\n",
    "print(string2)"
   ]
  }
 ],
 "metadata": {
  "kernelspec": {
   "display_name": "Python 3",
   "language": "python",
   "name": "python3"
  },
  "language_info": {
   "codemirror_mode": {
    "name": "ipython",
    "version": 3
   },
   "file_extension": ".py",
   "mimetype": "text/x-python",
   "name": "python",
   "nbconvert_exporter": "python",
   "pygments_lexer": "ipython3",
   "version": "3.11.3"
  }
 },
 "nbformat": 4,
 "nbformat_minor": 2
}
